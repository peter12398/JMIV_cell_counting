{
 "cells": [
  {
   "cell_type": "code",
   "execution_count": 1,
   "metadata": {},
   "outputs": [],
   "source": [
    "import matplotlib.pyplot as plt\n",
    "from skimage.measure import regionprops\n",
    "import numpy as np"
   ]
  },
  {
   "cell_type": "markdown",
   "metadata": {},
   "source": [
    "# Generate preprocessed CellPose dataset"
   ]
  },
  {
   "cell_type": "code",
   "execution_count": 2,
   "metadata": {},
   "outputs": [],
   "source": [
    "# convert RGB to gray (combine Red and Green channels), resize 256,256\n",
    "# convert mask, resize 256,256"
   ]
  },
  {
   "cell_type": "code",
   "execution_count": 6,
   "metadata": {},
   "outputs": [],
   "source": [
    "import os\n",
    "import glob\n",
    "import cv2"
   ]
  },
  {
   "cell_type": "code",
   "execution_count": 11,
   "metadata": {},
   "outputs": [],
   "source": [
    "path = \"/cluster/CMM/home/xfliu/workspace/JMIV_cell_counting/data/cellpose/CellPose_selected_05_06_2024_onlyRed\""
   ]
  },
  {
   "cell_type": "code",
   "execution_count": 12,
   "metadata": {},
   "outputs": [],
   "source": [
    "save_path = \"CellPose_converted_05_06_2024_onlyRed_max3channels_bugfixUint8_less200\"\n",
    "for mode_ in [\"train\", \"test\"]:\n",
    "    if not os.path.exists(save_path + \"/\" + mode_):\n",
    "        os.makedirs(save_path + \"/\" + mode_)"
   ]
  },
  {
   "cell_type": "code",
   "execution_count": 13,
   "metadata": {},
   "outputs": [],
   "source": [
    "for mode in [\"train\", \"test\"]:\n",
    "    images_masks_path_list = glob.glob(path + \"/\" + \"{}/\".format(mode) + \"*_img.png\")\n",
    "\n",
    "    I_converted_max_list = []\n",
    "    for impath in images_masks_path_list:\n",
    "        imname = impath.split(\"/\")[-1].split(\".png\")[0]\n",
    "        maskname = imname.replace(\"img\", \"masks\")\n",
    "        I=plt.imread(impath)\n",
    "        I_converted = np.max(I, axis = -1) #I[:,:,1]*Green_channel_coeff + I[:,:,0]*(1-Green_channel_coeff)\n",
    "        I_converted_uint8 = np.array(I_converted*255., dtype=np.uint8)\n",
    "        \n",
    "        I_RGB = np.array(I*255., dtype=np.uint8)\n",
    "        I_RGB = cv2.cvtColor(I_RGB, cv2.COLOR_BGR2RGB)\n",
    "        #print(\"I_converted.max() = {}\".format(I_converted.max()))\n",
    "        #I_converted_max_list.append(I_converted.max())\n",
    "        \n",
    "\n",
    "        mask_path = impath.replace(\"img\", \"masks\")\n",
    "\n",
    "        M=plt.imread(mask_path)\n",
    "\n",
    "        \"\"\"\n",
    "        Mtemp=(M/np.max(M))*255.\n",
    "        Mtemp=Mtemp.astype(np.uint8)\n",
    "        regions = regionprops(Mtemp)\n",
    "        \"\"\"\n",
    "\n",
    "        Mtemp=(M/np.max(M))*2048.\n",
    "        Mtemp=Mtemp.astype(np.uint32)\n",
    "        regions = regionprops(Mtemp)\n",
    "\n",
    "        if len(regions) <= 200:\n",
    "            C=np.zeros((I.shape[0],I.shape[1]))\n",
    "            for props in regions:\n",
    "                y0, x0 = props.centroid\n",
    "                C[int(y0),int(x0)]=255\n",
    "            \n",
    "            #cv2.imwrite(save_path + \"/\" + mode + '/{}_RGB.png'.format(imname), I_RGB)\n",
    "            cv2.imwrite(save_path + \"/\" + mode + '/{}_converted.png'.format(imname), I_converted_uint8)\n",
    "            cv2.imwrite(save_path + \"/\" + mode + '/{}_converted.png'.format(maskname), C)\n",
    "        else:\n",
    "            pass\n",
    "\n",
    "        # resize image\n",
    "        #resized = cv2.resize(I_converted, (256,256), interpolation = cv2.INTER_AREA)"
   ]
  },
  {
   "cell_type": "code",
   "execution_count": 15,
   "metadata": {},
   "outputs": [
    {
     "data": {
      "text/plain": [
       "1.0"
      ]
     },
     "execution_count": 15,
     "metadata": {},
     "output_type": "execute_result"
    }
   ],
   "source": [
    "I.max()"
   ]
  },
  {
   "cell_type": "code",
   "execution_count": 21,
   "metadata": {},
   "outputs": [],
   "source": [
    "#plt.imshow(resized)"
   ]
  },
  {
   "cell_type": "code",
   "execution_count": 22,
   "metadata": {},
   "outputs": [],
   "source": [
    "#I_converted.max()"
   ]
  },
  {
   "cell_type": "code",
   "execution_count": 23,
   "metadata": {},
   "outputs": [],
   "source": [
    "import json"
   ]
  },
  {
   "cell_type": "code",
   "execution_count": null,
   "metadata": {},
   "outputs": [],
   "source": [
    "\n"
   ]
  },
  {
   "cell_type": "code",
   "execution_count": null,
   "metadata": {},
   "outputs": [],
   "source": []
  },
  {
   "cell_type": "code",
   "execution_count": 24,
   "metadata": {},
   "outputs": [],
   "source": [
    "json_path = \"/cluster/CMM/home/xfliu/workspace/JMIV_counting_cells/best_h_dataset255_CellPose_converted_05_06_2024_onlyRed_max3channels/best_h/best_h_opening_closing_test.json\"\n",
    "f = open(json_path) \n",
    "data = json.load(f) \n",
    "best_h_list_train = [int(i) for i in data.values()]"
   ]
  },
  {
   "cell_type": "code",
   "execution_count": 25,
   "metadata": {},
   "outputs": [
    {
     "data": {
      "text/plain": [
       "<matplotlib.legend.Legend at 0x7fbd6826ffa0>"
      ]
     },
     "execution_count": 25,
     "metadata": {},
     "output_type": "execute_result"
    },
    {
     "data": {
      "image/png": "[encoded data removed]",
      "text/plain": [
       "<Figure size 640x480 with 1 Axes>"
      ]
     },
     "metadata": {},
     "output_type": "display_data"
    }
   ],
   "source": [
    "plt.hist(best_h_list_train, label=\"train set\")\n",
    "plt.title(\"best h CellPose on test set\")\n",
    "plt.ylabel(\"best h CellPose test set\")\n",
    "plt.xlabel(\"N\")\n",
    "plt.legend()"
   ]
  },
  {
   "cell_type": "code",
   "execution_count": null,
   "metadata": {},
   "outputs": [],
   "source": []
  },
  {
   "cell_type": "code",
   "execution_count": null,
   "metadata": {},
   "outputs": [],
   "source": []
  }
 ],
 "metadata": {
  "kernelspec": {
   "display_name": "tensorflow",
   "language": "python",
   "name": "python3"
  },
  "language_info": {
   "codemirror_mode": {
    "name": "ipython",
    "version": 3
   },
   "file_extension": ".py",
   "mimetype": "text/x-python",
   "name": "python",
   "nbconvert_exporter": "python",
   "pygments_lexer": "ipython3",
   "version": "3.9.12"
  }
 },
 "nbformat": 4,
 "nbformat_minor": 2
}
