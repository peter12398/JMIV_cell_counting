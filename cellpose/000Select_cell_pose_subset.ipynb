{
 "cells": [
  {
   "cell_type": "markdown",
   "metadata": {},
   "source": [
    "# Select subset of CellPose dataset"
   ]
  },
  {
   "cell_type": "code",
   "execution_count": 2,
   "metadata": {},
   "outputs": [
    {
     "data": {
      "text/plain": [
       "'/home/linux2/workspace/JMIV_cell_counting'"
      ]
     },
     "execution_count": 2,
     "metadata": {},
     "output_type": "execute_result"
    }
   ],
   "source": [
    "import os\n",
    "import glob\n",
    "import cv2\n",
    "import shutil\n",
    "\n",
    "#dirname = os.path.dirname(__file__)\n",
    "#parent_dir_name = os.path.dirname(dirname)\n",
    "parent_dir_name = os.path.dirname(os.path.abspath(''))\n",
    "parent_dir_name"
   ]
  },
  {
   "cell_type": "code",
   "execution_count": 3,
   "metadata": {},
   "outputs": [],
   "source": [
    "CellPose_riginal_dataset_path = parent_dir_name + \"/data/cellpose/CellPose\""
   ]
  },
  {
   "cell_type": "code",
   "execution_count": 4,
   "metadata": {},
   "outputs": [
    {
     "data": {
      "text/plain": [
       "['test.zip', 'train.zip', 'test', 'train_cyto2', 'train_cyto2.zip', 'train']"
      ]
     },
     "execution_count": 4,
     "metadata": {},
     "output_type": "execute_result"
    }
   ],
   "source": [
    "os.listdir(CellPose_riginal_dataset_path)"
   ]
  },
  {
   "cell_type": "code",
   "execution_count": 5,
   "metadata": {},
   "outputs": [],
   "source": [
    "import json\n",
    "\n",
    "with open('train_imname_list.json') as file:\n",
    "    train_imname_list = json.load(file)\n",
    "\n",
    "with open('test_imname_list.json') as file:\n",
    "    test_imname_list = json.load(file)\n",
    "\n",
    "imname_dict = {\"train\": train_imname_list, \"test\": test_imname_list}"
   ]
  },
  {
   "cell_type": "code",
   "execution_count": 6,
   "metadata": {},
   "outputs": [
    {
     "data": {
      "text/plain": [
       "32"
      ]
     },
     "execution_count": 6,
     "metadata": {},
     "output_type": "execute_result"
    }
   ],
   "source": [
    "len(test_imname_list)"
   ]
  },
  {
   "cell_type": "code",
   "execution_count": 7,
   "metadata": {},
   "outputs": [],
   "source": [
    "save_path = parent_dir_name + \"/data/cellpose/CellPose_selected_organised\"\n",
    "for mode_ in [\"train\", \"test\"]:\n",
    "    if not os.path.exists(save_path + \"/\" + mode_):\n",
    "        os.makedirs(save_path + \"/\" + mode_)"
   ]
  },
  {
   "cell_type": "code",
   "execution_count": 8,
   "metadata": {},
   "outputs": [],
   "source": [
    "for mode in [\"train\", \"test\"]:\n",
    "    imname_list_to_use = imname_dict[mode]\n",
    "    for imname in imname_list_to_use:\n",
    "        if int(imname.split(\"_\")[0]) >= 540:\n",
    "            cellpose_orig_dir = os.path.join(CellPose_riginal_dataset_path, \"train_cyto2\")\n",
    "        else:\n",
    "            cellpose_orig_dir = os.path.join(CellPose_riginal_dataset_path, mode)\n",
    "        src_path = os.path.join(cellpose_orig_dir, imname)\n",
    "        dst_path = os.path.join(save_path, mode, imname)\n",
    "        shutil.copy(src_path, dst_path)\n",
    "    "
   ]
  },
  {
   "cell_type": "code",
   "execution_count": 15,
   "metadata": {},
   "outputs": [],
   "source": [
    "assert set(os.listdir(os.path.join(save_path, \"train\"))) == set(train_imname_list)\n",
    "assert set(os.listdir(os.path.join(save_path, \"test\"))) == set(test_imname_list)"
   ]
  },
  {
   "cell_type": "code",
   "execution_count": null,
   "metadata": {},
   "outputs": [],
   "source": []
  }
 ],
 "metadata": {
  "kernelspec": {
   "display_name": "tensorflow",
   "language": "python",
   "name": "python3"
  },
  "language_info": {
   "codemirror_mode": {
    "name": "ipython",
    "version": 3
   },
   "file_extension": ".py",
   "mimetype": "text/x-python",
   "name": "python",
   "nbconvert_exporter": "python",
   "pygments_lexer": "ipython3",
   "version": "3.8.10"
  }
 },
 "nbformat": 4,
 "nbformat_minor": 2
}
