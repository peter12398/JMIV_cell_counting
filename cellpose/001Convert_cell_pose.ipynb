{
 "cells": [
  {
   "cell_type": "code",
   "execution_count": 2,
   "metadata": {},
   "outputs": [
    {
     "data": {
      "text/plain": [
       "'/home/linux2/workspace/JMIV_cell_counting'"
      ]
     },
     "execution_count": 2,
     "metadata": {},
     "output_type": "execute_result"
    }
   ],
   "source": [
    "import matplotlib.pyplot as plt\n",
    "from skimage.measure import regionprops\n",
    "import numpy as np\n",
    "import os \n",
    "\n",
    "#dirname = os.path.dirname(__file__)\n",
    "#parent_dir_name = os.path.dirname(dirname)\n",
    "parent_dir_name = os.path.dirname(os.path.abspath(''))\n",
    "parent_dir_name"
   ]
  },
  {
   "cell_type": "markdown",
   "metadata": {},
   "source": [
    "# Generate preprocessed CellPose dataset"
   ]
  },
  {
   "cell_type": "code",
   "execution_count": 2,
   "metadata": {},
   "outputs": [],
   "source": [
    "# convert RGB to gray (combine Red and Green channels), resize 256,256\n",
    "# convert mask, resize 256,256"
   ]
  },
  {
   "cell_type": "code",
   "execution_count": 3,
   "metadata": {},
   "outputs": [],
   "source": [
    "import os\n",
    "import glob\n",
    "import cv2"
   ]
  },
  {
   "cell_type": "code",
   "execution_count": 12,
   "metadata": {},
   "outputs": [],
   "source": [
    "path = parent_dir_name + \"/data/cellpose/CellPose_selected_organised\""
   ]
  },
  {
   "cell_type": "code",
   "execution_count": 13,
   "metadata": {},
   "outputs": [],
   "source": [
    "save_path  = parent_dir_name + \"/data/cellpose/CellPose_converted\"\n",
    "for mode_ in [\"train\", \"test\"]:\n",
    "    if not os.path.exists(save_path + \"/\" + mode_):\n",
    "        os.makedirs(save_path + \"/\" + mode_)"
   ]
  },
  {
   "cell_type": "code",
   "execution_count": 14,
   "metadata": {},
   "outputs": [
    {
     "name": "stdout",
     "output_type": "stream",
     "text": [
      "pass\n",
      "pass\n",
      "pass\n",
      "pass\n",
      "pass\n",
      "pass\n",
      "pass\n",
      "pass\n",
      "pass\n"
     ]
    }
   ],
   "source": [
    "for mode in [\"train\", \"test\"]:\n",
    "    images_masks_path_list = glob.glob(path + \"/\" + \"{}/\".format(mode) + \"*_img.png\")\n",
    "\n",
    "    I_converted_max_list = []\n",
    "    for impath in images_masks_path_list:\n",
    "        imname = impath.split(\"/\")[-1].split(\".png\")[0]\n",
    "        maskname = imname.replace(\"img\", \"masks\")\n",
    "        I=plt.imread(impath)\n",
    "        I_converted = np.max(I, axis = -1) #I[:,:,1]*Green_channel_coeff + I[:,:,0]*(1-Green_channel_coeff)\n",
    "        I_converted_uint8 = np.array(I_converted*255., dtype=np.uint8)\n",
    "        \n",
    "        I_RGB = np.array(I*255., dtype=np.uint8)\n",
    "        I_RGB = cv2.cvtColor(I_RGB, cv2.COLOR_BGR2RGB)\n",
    "        #print(\"I_converted.max() = {}\".format(I_converted.max()))\n",
    "        #I_converted_max_list.append(I_converted.max())\n",
    "        \n",
    "\n",
    "        mask_path = impath.replace(\"img\", \"masks\")\n",
    "\n",
    "        M=plt.imread(mask_path)\n",
    "\n",
    "        \"\"\"\n",
    "        Mtemp=(M/np.max(M))*255.\n",
    "        Mtemp=Mtemp.astype(np.uint8)\n",
    "        regions = regionprops(Mtemp)\n",
    "        \"\"\"\n",
    "\n",
    "        Mtemp=(M/np.max(M))*2048.\n",
    "        Mtemp=Mtemp.astype(np.uint32)\n",
    "        regions = regionprops(Mtemp)\n",
    "\n",
    "        if len(regions) <= 200:\n",
    "            C=np.zeros((I.shape[0],I.shape[1]))\n",
    "            for props in regions:\n",
    "                y0, x0 = props.centroid\n",
    "                C[int(y0),int(x0)]=255\n",
    "            \n",
    "            #cv2.imwrite(save_path + \"/\" + mode + '/{}_RGB.png'.format(imname), I_RGB)\n",
    "            cv2.imwrite(save_path + \"/\" + mode + '/{}_converted.png'.format(imname), I_converted_uint8)\n",
    "            cv2.imwrite(save_path + \"/\" + mode + '/{}_converted.png'.format(maskname), C)\n",
    "        else:\n",
    "            pass\n",
    "\n",
    "        # resize image\n",
    "        #resized = cv2.resize(I_converted, (256,256), interpolation = cv2.INTER_AREA)"
   ]
  },
  {
   "cell_type": "code",
   "execution_count": null,
   "metadata": {},
   "outputs": [],
   "source": []
  }
 ],
 "metadata": {
  "kernelspec": {
   "display_name": "tensorflow",
   "language": "python",
   "name": "python3"
  },
  "language_info": {
   "codemirror_mode": {
    "name": "ipython",
    "version": 3
   },
   "file_extension": ".py",
   "mimetype": "text/x-python",
   "name": "python",
   "nbconvert_exporter": "python",
   "pygments_lexer": "ipython3",
   "version": "3.8.10"
  }
 },
 "nbformat": 4,
 "nbformat_minor": 2
}
